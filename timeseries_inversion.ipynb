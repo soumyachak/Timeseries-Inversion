{
 "cells": [
  {
   "cell_type": "code",
   "execution_count": 23,
   "metadata": {},
   "outputs": [],
   "source": [
    "# Import libraries\n",
    "import numpy as np\n",
    "import sympy\n",
    "from sympy import Poly\n",
    "from itertools import accumulate\n",
    "import operator"
   ]
  },
  {
   "cell_type": "code",
   "execution_count": 24,
   "metadata": {},
   "outputs": [],
   "source": [
    "# Function to construct polynimial of lag operator\n",
    "def polynomial_coeff(n):\n",
    "    x, y = sympy.symbols(\"l -L\")\n",
    "    formula = (x + y) ** n\n",
    "    z = Poly(formula).coeffs()\n",
    "    return [-1*z[i] if i%2!=0 else z[i] for i in range(len(z))]"
   ]
  },
  {
   "cell_type": "code",
   "execution_count": 25,
   "metadata": {},
   "outputs": [],
   "source": [
    "# function to invert timeseries\n",
    "def invert_timeseries(diff_series,n,history):\n",
    "    lst = diff_series\n",
    "    for i in range(n)[::-1]:\n",
    "        lst = list(accumulate(lst, operator.add))\n",
    "        if i>0:\n",
    "            factor = sum(np.multiply(history[-(i+1):][::-1],polynomial_coeff(i)))\n",
    "        else:\n",
    "            factor = history[-1]\n",
    "        lst = [x+factor for x in lst]\n",
    "    return lst"
   ]
  },
  {
   "cell_type": "code",
   "execution_count": 27,
   "metadata": {},
   "outputs": [
    {
     "name": "stdout",
     "output_type": "stream",
     "text": [
      "Original time series [ 9  6  9  8  5  8  3  3 10  9  1  1 10  3  8]\n",
      "Differenced timeseries [-263, 283, -112, -81, 83, 33, 33]\n",
      "Inverted timeseries [9, 6, 9, 8, 5, 8, 3, 3, 10, 9, 1, 1, 10, 3, 8]\n"
     ]
    }
   ],
   "source": [
    "lst = [9,6,9,8,5,8,3,3,10,9,1,1,10,3,8]\n",
    "arr = np.array(lst)\n",
    "print(\"Original time series\", arr)\n",
    "\n",
    "x = list(np.diff(arr,n=8))\n",
    "print(\"Differenced timeseries\", x)\n",
    "\n",
    "inverted_ts = invert_timeseries(x,n=8,history=lst[:8])\n",
    "result = lst[:8]\n",
    "for y in inverted_ts:\n",
    "    result.append(y)\n",
    "\n",
    "print(\"Inverted timeseries\", result)"
   ]
  }
 ],
 "metadata": {
  "kernelspec": {
   "display_name": "base",
   "language": "python",
   "name": "python3"
  },
  "language_info": {
   "codemirror_mode": {
    "name": "ipython",
    "version": 3
   },
   "file_extension": ".py",
   "mimetype": "text/x-python",
   "name": "python",
   "nbconvert_exporter": "python",
   "pygments_lexer": "ipython3",
   "version": "3.9.12"
  }
 },
 "nbformat": 4,
 "nbformat_minor": 2
}
